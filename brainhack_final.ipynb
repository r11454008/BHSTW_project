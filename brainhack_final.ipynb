{
 "cells": [
  {
   "cell_type": "code",
   "execution_count": 61,
   "metadata": {},
   "outputs": [],
   "source": [
    "import warnings\n",
    "warnings.filterwarnings(\"ignore\")"
   ]
  },
  {
   "cell_type": "code",
   "execution_count": 1,
   "metadata": {},
   "outputs": [],
   "source": [
    "# For operating files in the system\n",
    "import os \n",
    "\n",
    "# The paths to the Nifti files \n",
    "path = r\"C:\\Users\\USER\\Desktop\\Brainhack\\Brainhack_final\\p004_output\\output\\cpac_cpac-default-pipeline\\sub-004_ses-1\\func\"\n",
    "\n",
    "# This file containing preprocessing rs-fMRI data export from C-PAC\n",
    "# (naming convention ket word:\"_space-template_desc-preproc-bold\")\n",
    "fmri_filepath = os.path.join(path, \"sub-004_ses-1_task-rest_run-001_space-template_desc-preproc-1_bold.nii.gz\")"
   ]
  },
  {
   "cell_type": "code",
   "execution_count": 2,
   "metadata": {},
   "outputs": [
    {
     "name": "stdout",
     "output_type": "stream",
     "text": [
      "\n",
      "<class 'nibabel.nifti1.Nifti1Image'>\n",
      "data shape (61, 73, 61, 180)\n",
      "affine:\n",
      "[[  -3.    0.    0.   90.]\n",
      " [   0.    3.    0. -126.]\n",
      " [   0.    0.    3.  -72.]\n",
      " [   0.    0.    0.    1.]]\n",
      "metadata:\n",
      "<class 'nibabel.nifti1.Nifti1Header'> object, endian='<'\n",
      "sizeof_hdr      : 348\n",
      "data_type       : b''\n",
      "db_name         : b''\n",
      "extents         : 0\n",
      "session_error   : 0\n",
      "regular         : b'r'\n",
      "dim_info        : 0\n",
      "dim             : [  4  61  73  61 180   1   1   1]\n",
      "intent_p1       : 0.0\n",
      "intent_p2       : 0.0\n",
      "intent_p3       : 0.0\n",
      "intent_code     : none\n",
      "datatype        : float64\n",
      "bitpix          : 64\n",
      "slice_start     : 0\n",
      "pixdim          : [-1.  3.  3.  3.  2.  0.  0.  0.]\n",
      "vox_offset      : 0.0\n",
      "scl_slope       : nan\n",
      "scl_inter       : nan\n",
      "slice_end       : 0\n",
      "slice_code      : unknown\n",
      "xyzt_units      : 2\n",
      "cal_max         : 0.0\n",
      "cal_min         : 0.0\n",
      "slice_duration  : 0.0\n",
      "toffset         : 0.0\n",
      "glmax           : 0\n",
      "glmin           : 0\n",
      "descrip         : b''\n",
      "aux_file        : b''\n",
      "qform_code      : scanner\n",
      "sform_code      : unknown\n",
      "quatern_b       : -0.0\n",
      "quatern_c       : 1.0\n",
      "quatern_d       : 0.0\n",
      "qoffset_x       : 90.0\n",
      "qoffset_y       : -126.0\n",
      "qoffset_z       : -72.0\n",
      "srow_x          : [0. 0. 0. 0.]\n",
      "srow_y          : [0. 0. 0. 0.]\n",
      "srow_z          : [0. 0. 0. 0.]\n",
      "intent_name     : b''\n",
      "magic           : b'n+1'\n",
      "\n"
     ]
    }
   ],
   "source": [
    "# Used to read and write neuroimage files\n",
    "import nibabel as nib\n",
    "\n",
    "# Check the structure\n",
    "fmri_img = nib.load(fmri_filepath)\n",
    "print(fmri_img)"
   ]
  },
  {
   "cell_type": "code",
   "execution_count": 22,
   "metadata": {},
   "outputs": [
    {
     "data": {
      "text/plain": [
       "(61, 73, 61, 180)"
      ]
     },
     "execution_count": 22,
     "metadata": {},
     "output_type": "execute_result"
    }
   ],
   "source": [
    "# To get the data array \n",
    "fmri_data = fmri_img.get_fdata()\n",
    "fmri_data.shape"
   ]
  },
  {
   "cell_type": "code",
   "execution_count": 62,
   "metadata": {},
   "outputs": [
    {
     "data": {
      "text/plain": [
       "(180, 62401)"
      ]
     },
     "execution_count": 62,
     "metadata": {},
     "output_type": "execute_result"
    }
   ],
   "source": [
    "# This file containing the masker for atlas from C-PAC\n",
    "# (naming convention ket word:\"_space-template_desc-bold_mask\")\n",
    "mask_filepath = os.path.join(path, \"sub-004_ses-1_task-rest_run-001_space-template_desc-bold_mask.nii.gz\")\n",
    "\n",
    "# Use NiftiMasker to generate a two-dimensional data matrix\n",
    "from nilearn.input_data import NiftiMasker\n",
    "mask_img = nib.load(mask_filepath)\n",
    "masker = NiftiMasker(mask_img=mask_img)\n",
    "masked_data = masker.fit_transform(fmri_filepath)\n",
    "masked_data.shape"
   ]
  },
  {
   "cell_type": "code",
   "execution_count": 65,
   "metadata": {},
   "outputs": [
    {
     "data": {
      "text/plain": [
       "Text(0.5, 1.0, 'Masked Brain Image')"
      ]
     },
     "execution_count": 65,
     "metadata": {},
     "output_type": "execute_result"
    },
    {
     "data": {
      "image/png": "[encoded data removed]",
      "text/plain": [
       "<Figure size 640x480 with 2 Axes>"
      ]
     },
     "metadata": {},
     "output_type": "display_data"
    }
   ],
   "source": [
    "# For creating image graphics\n",
    "import matplotlib.pyplot as plt\n",
    "\n",
    "# Create a 2x1 subplot layout, placing the two images in different subplots\n",
    "fig, axes = plt.subplots(1,2)\n",
    "\n",
    "# Set the slice position\n",
    "slice_index_1 = 30\n",
    "slice_index_2 = 70\n",
    "\n",
    "# Plot a slice of our origin brain for a time point as an image\n",
    "axes[0].imshow(fmri_data[:,:,slice_index_1,slice_index_2], cmap='gray')\n",
    "axes[0].set_title('Original Brain Image')\n",
    "\n",
    "# Threshold the data after masked, and convert the thresholded data back to the original image space\n",
    "thresholded_masked_data = masked_data * (masked_data > masked_data.mean())\n",
    "thresholded_img = masker.inverse_transform(thresholded_masked_data)\n",
    "\n",
    "# Plot a brain image after masked\n",
    "axes[1].imshow(thresholded_img.get_fdata()[:,:,slice_index_1,slice_index_2], cmap='gray')\n",
    "axes[1].set_title('Masked Brain Image')"
   ]
  }
 ],
 "metadata": {
  "kernelspec": {
   "display_name": "Python 3",
   "language": "python",
   "name": "python3"
  },
  "language_info": {
   "codemirror_mode": {
    "name": "ipython",
    "version": 3
   },
   "file_extension": ".py",
   "mimetype": "text/x-python",
   "name": "python",
   "nbconvert_exporter": "python",
   "pygments_lexer": "ipython3",
   "version": "3.11.3"
  },
  "orig_nbformat": 4
 },
 "nbformat": 4,
 "nbformat_minor": 2
}
